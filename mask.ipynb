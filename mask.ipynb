import cv2
import numpy as np
import skimage.exposure
import matplotlib.pyplot as plt

# 1. Read the image
img = cv2.imread("acer2.jpg")

# 2. Convert to HSV
hsv = cv2.cvtColor(img, cv2.COLOR_BGR2HSV)

# 3. Define green range and create mask
range1 = (36, 0, 0)
range2 = (86, 255, 255)
mask = cv2.inRange(hsv, range1, range2)

# 4. Smooth the mask
mask = cv2.GaussianBlur(mask, (0, 0), sigmaX=3, sigmaY=3)
mask = skimage.exposure.rescale_intensity(mask, in_range=(127.5, 255), out_range=(0, 255)).astype(np.uint8)

# 5. Create a 4-channel image (BGRA)
result = cv2.cvtColor(img, cv2.COLOR_BGR2BGRA)
result[:, :, 3] = mask  # set alpha channel according to mask

# 6. Display result properly in Matplotlib
plt.imshow(cv2.cvtColor(result, cv2.COLOR_BGRA2RGBA))
plt.axis('off')
plt.show()

# 7. Save the transparent image
cv2.imwrite("acersmall_bg_transparent.png", result)
